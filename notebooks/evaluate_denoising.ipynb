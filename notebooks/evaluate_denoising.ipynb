{
 "cells": [
  {
   "cell_type": "code",
   "execution_count": null,
   "id": "badb1789",
   "metadata": {},
   "outputs": [],
   "source": [
    "%cd .."
   ]
  },
  {
   "cell_type": "code",
   "execution_count": null,
   "id": "printable-persian",
   "metadata": {},
   "outputs": [],
   "source": [
    "import json\n",
    "import pandas as pd\n",
    "import numpy as np\n",
    "import matplotlib.pyplot as plt\n",
    "import seaborn as sns"
   ]
  },
  {
   "cell_type": "code",
   "execution_count": null,
   "id": "a966b8dd",
   "metadata": {},
   "outputs": [],
   "source": [
    "models = [\n",
    "    \"dae_0.04314\",\n",
    "    \"drunet_0.0-0.2\",\n",
    "    \"dcnn_0.05\",\n",
    "    \"drcnn_0.05\",\n",
    "    \"dunet_0.05\",\n",
    "    \"dunet+_0.05\",\n",
    "    \"dunet+_0.0-0.2\",\n",
    "    \"drunet+_0.0-0.2\",\n",
    "    \"drugan+-lambda-zero_0.0-0.2\",\n",
    "    \"drugan+_0.0-0.2\",\n",
    "]\n",
    "metrics = [\"psnr\", \"fsim\"]\n",
    "noise_levels = [\"0.05\", \"0.10\", \"0.20\"]\n",
    "datasets = [\"bsds500/gauss\"]"
   ]
  },
  {
   "cell_type": "code",
   "execution_count": null,
   "id": "everyday-hygiene",
   "metadata": {},
   "outputs": [],
   "source": [
    "# Read the evaluation\n",
    "df_all = pd.read_csv('results/denoising_evaluation.csv')\n",
    "\n",
    "# Read the model name mapping\n",
    "with open('models/model_name_mapping.json') as f:\n",
    "    model_mapping = json.load(f)\n"
   ]
  },
  {
   "cell_type": "code",
   "execution_count": null,
   "id": "economic-amateur",
   "metadata": {
    "scrolled": false
   },
   "outputs": [],
   "source": [
    "df = df_all.copy()\n",
    "\n",
    "# Only take rows of the configured models\n",
    "df = df[df['Model'].isin(models)]\n",
    "\n",
    "# Split the dataset name\n",
    "df[['Dataset', 'Dataset_Variant']] = df['Dataset'].str.split(\"_\", expand=True)\n",
    "\n",
    "# Filter datasets\n",
    "df = df[df['Dataset'].isin(datasets)]\n",
    "\n",
    "# Mean over the images\n",
    "df = df.groupby(['Model', 'Dataset_Variant']).mean()\n",
    "df = df.reset_index()\n",
    "df = df.drop(columns=['Image_Id'])\n",
    "\n",
    "# Combine all metrics in one column\n",
    "df = df.melt(id_vars=['Model', 'Dataset_Variant',], var_name='metric', value_name='value')\n",
    "\n",
    "# Filter: Only configured metrics, only configured noise levels\n",
    "df = df[df['metric'].isin(metrics)]\n",
    "df = df[df['Dataset_Variant'].isin(noise_levels)]\n",
    "\n",
    "# Set values to NaN where the model is not trained for the noise\n",
    "df['value'][~df['Model'].str.endswith('0.2') & (df['Dataset_Variant'] != '0.05')] = np.nan\n",
    "\n",
    "# Sort\n",
    "df = df.sort_values('metric', kind='mergesort', key=lambda x: [0 if v == \"PSNR\" else 1 for v in x])\n",
    "df = df.sort_values('Dataset_Variant', kind='mergesort')\n",
    "\n",
    "# Rename metrics\n",
    "df['metric'] = df['metric'].map({'fsim': 'FSIM', 'psnr': 'PSNR', 'ssim': 'SSIM'})\n",
    "\n",
    "# Set the index\n",
    "df = df.set_index(['Model', 'Dataset_Variant', 'metric'])\n",
    "\n",
    "# Unstack noise_stddev\n",
    "df = df.unstack(['Dataset_Variant', 'metric'])\n",
    "\n",
    "# Organize the column naming\n",
    "df.columns = df.columns.droplevel(0)\n",
    "df.columns = df.columns.rename(['Additive noise \\( \\sigma_n \\)', ''])\n",
    "\n",
    "df = df.sort_values('Model', key=lambda x: [models.index(v) for v in x], kind='mergesort')\n",
    "df.index = df.index.map(model_mapping)\n",
    "\n",
    "df"
   ]
  },
  {
   "cell_type": "code",
   "execution_count": null,
   "id": "asian-understanding",
   "metadata": {},
   "outputs": [],
   "source": [
    "def float_format(v):\n",
    "    if v < 1.0:\n",
    "        return f\"{v:.4f}\" #[1:] <-- Do not show leading 0\n",
    "    else:\n",
    "        return f\"{v:.2f}\"\n",
    "\n",
    "column_format = 'l' + 'c' * len(df.columns)\n",
    "\n",
    "with pd.option_context(\"max_colwidth\", 1000):\n",
    "    latex = df.to_latex(float_format=float_format,\n",
    "                        escape=False,\n",
    "                        na_rep='---',\n",
    "                        column_format=column_format,\n",
    "                        multicolumn_format='c')\n",
    "print(latex)"
   ]
  }
 ],
 "metadata": {
  "kernelspec": {
   "display_name": "Python 3",
   "language": "python",
   "name": "python3"
  },
  "language_info": {
   "codemirror_mode": {
    "name": "ipython",
    "version": 3
   },
   "file_extension": ".py",
   "mimetype": "text/x-python",
   "name": "python",
   "nbconvert_exporter": "python",
   "pygments_lexer": "ipython3",
   "version": "3.8.10"
  }
 },
 "nbformat": 4,
 "nbformat_minor": 5
}
