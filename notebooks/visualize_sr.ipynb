{
 "cells": [
  {
   "cell_type": "code",
   "execution_count": null,
   "metadata": {},
   "outputs": [],
   "source": [
    "%cd ..\n",
    "%config Completer.use_jedi = False\n",
    "%load_ext autoreload\n",
    "%autoreload 2"
   ]
  },
  {
   "cell_type": "code",
   "execution_count": null,
   "metadata": {},
   "outputs": [],
   "source": [
    "import os\n",
    "import imageio\n",
    "import tensorflow as tf\n",
    "import tensorflow_datasets as tfds\n",
    "\n",
    "import tensorflow_datasets_bw as datasets\n",
    "from tensorflow_datasets_bw import visualize\n",
    "import dppp"
   ]
  },
  {
   "cell_type": "markdown",
   "metadata": {},
   "source": [
    "# Load an example dataset and example kernels"
   ]
  },
  {
   "cell_type": "code",
   "execution_count": null,
   "metadata": {},
   "outputs": [],
   "source": [
    "scale_factor = 4\n",
    "resize_method = tf.image.ResizeMethod.BICUBIC\n",
    "\n",
    "builder_kwargs = {\n",
    "    'resize_method': resize_method,\n",
    "    'scale': scale_factor,\n",
    "    'antialias': True\n",
    "}\n",
    "images = tfds.load(name=\"set14\", split=\"test\", builder_kwargs=builder_kwargs) \\\n",
    "                .map(datasets.map_on_dict(datasets.to_float32)) \\\n",
    "                .map(datasets.map_on_dict(datasets.from_255_to_1_range))"
   ]
  },
  {
   "cell_type": "code",
   "execution_count": null,
   "metadata": {},
   "outputs": [],
   "source": [
    "image_dict = datasets.get_one_example(images, index=2)\n",
    "image_hr = image_dict['hr'][None, ...]\n",
    "image_lr = image_dict['lr'][None, ...]\n",
    "visualize.draw_images(image_hr)"
   ]
  },
  {
   "cell_type": "code",
   "execution_count": null,
   "metadata": {},
   "outputs": [],
   "source": [
    "h, w = tf.shape(image_hr)[1:3]\n",
    "image_bicubic = tf.image.resize(image_lr, (h, w), method='bicubic')\n",
    "bicubic_psnr = dppp.psnr(image_hr, image_bicubic).numpy()[0]\n",
    "bicubic_fsim = dppp.fsim(image_hr, image_bicubic).numpy()[0]\n",
    "print(f\"Bicubic PSNR: {bicubic_psnr:0.2f}, FSIM: {bicubic_fsim:0.4f}\")\n",
    "visualize.draw_images(image_bicubic)"
   ]
  },
  {
   "cell_type": "markdown",
   "metadata": {},
   "source": [
    "# Run different Methods and Models"
   ]
  },
  {
   "cell_type": "code",
   "execution_count": null,
   "metadata": {},
   "outputs": [],
   "source": [
    "model_methods = [\n",
    "    ('dae_0.04314', 'dmsp', None),\n",
    "    ('drcnn_0.05', 'dmsp', None),\n",
    "    ('drunet+_0.0-0.2', 'dmsp', 0.1),\n",
    "    ('drugan+_0.0-0.2', 'dmsp', 0.1),\n",
    "    ('drunet+_0.0-0.2', 'hqs', None),\n",
    "    ('drugan+_0.0-0.2', 'hqs', None),\n",
    "]"
   ]
  },
  {
   "cell_type": "code",
   "execution_count": null,
   "metadata": {},
   "outputs": [],
   "source": [
    "all_reconstructed = []\n",
    "all_psnr = []\n",
    "all_fsim = []\n",
    "\n",
    "for model_name, method, denoiser_stddev in model_methods:\n",
    "    model_path = os.path.join('models', f'{model_name}.h5')\n",
    "    denoiser, (_, max_denoiser_stddev) = dppp.load_denoiser(model_path)\n",
    "    if denoiser_stddev is None:\n",
    "        denoiser_stddev = max_denoiser_stddev\n",
    "        \n",
    "    print(f\"Running {method} for {model_name}...\")\n",
    "    if method == 'dmsp':\n",
    "        rec = dppp.dmsp_super_resolve(image_lr, scale_factor,\n",
    "                                      denoiser, denoiser_stddev)\n",
    "        \n",
    "    if method == 'hqs':\n",
    "        rec = dppp.hqs_super_resolve(image_lr, scale_factor,\n",
    "                                     denoiser, max_denoiser_stddev)\n",
    "    \n",
    "    psnr = dppp.psnr(image_hr, rec).numpy()[0]\n",
    "    fsim = dppp.fsim(image_hr, rec).numpy()[0]\n",
    "    print(f\"Reconstructed PSNR: {psnr:0.2f}, FSIM: {fsim:0.4f}\")\n",
    "    \n",
    "    all_reconstructed.append(rec)\n",
    "    all_psnr.append(psnr)\n",
    "    all_fsim.append(fsim)"
   ]
  },
  {
   "cell_type": "markdown",
   "metadata": {},
   "source": [
    "# Visualize"
   ]
  },
  {
   "cell_type": "code",
   "execution_count": null,
   "metadata": {},
   "outputs": [],
   "source": [
    "visualize.draw_images([image_hr[0], image_bicubic[0], *[x[0] for x in all_reconstructed]], ncol=4, figsize=(50, 40))"
   ]
  },
  {
   "cell_type": "markdown",
   "metadata": {},
   "source": [
    "# Export"
   ]
  },
  {
   "cell_type": "code",
   "execution_count": null,
   "metadata": {},
   "outputs": [],
   "source": [
    "export_dir = os.path.join('visualize', 'super_res')"
   ]
  },
  {
   "cell_type": "code",
   "execution_count": null,
   "metadata": {},
   "outputs": [],
   "source": [
    "os.makedirs(export_dir)\n",
    "\n",
    "def export_path(x):\n",
    "    return os.path.join(export_dir, x)\n",
    "\n",
    "def to_uint8(x):\n",
    "    return tf.cast(tf.clip_by_value(x, 0, 1) * 255, tf.uint8)\n",
    "\n",
    "def write_to(file_name, img, psnr, fsim):\n",
    "    imageio.imwrite(export_path(f'{file_name}.png'), to_uint8(img[0]))\n",
    "    with open(export_path(f'{file_name}.txt'), 'w') as f:\n",
    "        f.write(f\"PSNR: {psnr}, FSIM: {fsim}\")\n",
    "\n",
    "#### Images\n",
    "\n",
    "# High resolution\n",
    "imageio.imwrite(export_path('gt.png'), to_uint8(image_hr[0]))\n",
    "\n",
    "# Bicubic\n",
    "write_to('bicubic', image_bicubic, bicubic_psnr, bicubic_fsim)\n",
    "\n",
    "# Reconstructed\n",
    "for mm, rec, psnr, fsim in zip(model_methods, all_reconstructed, all_psnr, all_fsim):\n",
    "    model_name, method, denoiser_stddev = mm\n",
    "    write_to(f'{method}-{model_name}', rec, psnr, fsim)"
   ]
  },
  {
   "cell_type": "markdown",
   "metadata": {},
   "source": [
    "# Highlight a Region of Interest\n",
    "\n",
    "Also add results from other methods before running these cells"
   ]
  },
  {
   "cell_type": "code",
   "execution_count": null,
   "metadata": {},
   "outputs": [],
   "source": [
    "import os\n",
    "import imageio\n",
    "from highlight import highlight, highlight_and_save"
   ]
  },
  {
   "cell_type": "markdown",
   "metadata": {},
   "source": [
    "### Preview and Region Selection"
   ]
  },
  {
   "cell_type": "code",
   "execution_count": null,
   "metadata": {},
   "outputs": [],
   "source": [
    "image = imageio.imread(os.path.join(export_dir, 'gt.png'))\n",
    "\n",
    "# Location of the region of interest\n",
    "center = (120,120)\n",
    "extent = 30\n",
    "\n",
    "# Size of the box\n",
    "rel_width = 0.7\n",
    "\n",
    "# Positioning of the box\n",
    "border = 0.01\n",
    "top = False\n",
    "right = False\n",
    "label_border = 0.07\n",
    "fontsize=12\n",
    "\n",
    "fig = highlight(image, center, extent, rel_width, top, right, border, label_border, fontsize)"
   ]
  },
  {
   "cell_type": "markdown",
   "metadata": {},
   "source": [
    "### Highlight"
   ]
  },
  {
   "cell_type": "code",
   "execution_count": null,
   "metadata": {},
   "outputs": [],
   "source": [
    "highlight_and_save(export_dir, center, extent, rel_width, top, right, border, label_border, fontsize)"
   ]
  }
 ],
 "metadata": {
  "kernelspec": {
   "display_name": "Python 3",
   "language": "python",
   "name": "python3"
  },
  "language_info": {
   "codemirror_mode": {
    "name": "ipython",
    "version": 3
   },
   "file_extension": ".py",
   "mimetype": "text/x-python",
   "name": "python",
   "nbconvert_exporter": "python",
   "pygments_lexer": "ipython3",
   "version": "3.8.10"
  }
 },
 "nbformat": 4,
 "nbformat_minor": 2
}
