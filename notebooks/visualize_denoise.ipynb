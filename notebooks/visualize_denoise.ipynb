{
 "cells": [
  {
   "cell_type": "code",
   "execution_count": null,
   "metadata": {},
   "outputs": [],
   "source": [
    "%cd ..\n",
    "%config Completer.use_jedi = False\n",
    "%load_ext autoreload\n",
    "%autoreload 2"
   ]
  },
  {
   "cell_type": "code",
   "execution_count": null,
   "metadata": {},
   "outputs": [],
   "source": [
    "import os\n",
    "import imageio\n",
    "import tensorflow as tf\n",
    "import tensorflow_datasets as tfds\n",
    "\n",
    "import tensorflow_datasets_bw as datasets\n",
    "from tensorflow_datasets_bw import visualize\n",
    "import dppp"
   ]
  },
  {
   "cell_type": "markdown",
   "metadata": {},
   "source": [
    "# Load an example dataset and example kernels"
   ]
  },
  {
   "cell_type": "code",
   "execution_count": null,
   "metadata": {},
   "outputs": [],
   "source": [
    "# images = tfds.load(name=\"bsds500\", split=\"validation\") \\\n",
    "#                 .map(datasets.get_image) \\\n",
    "#                 .map(datasets.to_float32) \\\n",
    "#                 .map(datasets.from_255_to_1_range)\n",
    "images = tfds.load(name=\"set5\", split=\"test\") \\\n",
    "                .map(datasets.get_value('hr')) \\\n",
    "                .map(datasets.to_float32) \\\n",
    "                .map(datasets.from_255_to_1_range)"
   ]
  },
  {
   "cell_type": "code",
   "execution_count": null,
   "metadata": {},
   "outputs": [],
   "source": [
    "noise_stddev = 0.35\n",
    "image = datasets.get_one_example(images, index=1)[None,...]\n",
    "visualize.draw_images(image)"
   ]
  },
  {
   "cell_type": "markdown",
   "metadata": {},
   "source": [
    "# Degrade the image"
   ]
  },
  {
   "cell_type": "code",
   "execution_count": null,
   "metadata": {},
   "outputs": [],
   "source": [
    "degraded = image + tf.random.normal(tf.shape(image), 0, noise_stddev)"
   ]
  },
  {
   "cell_type": "code",
   "execution_count": null,
   "metadata": {},
   "outputs": [],
   "source": [
    "degraded_psnr = dppp.psnr(image, degraded).numpy()[0]\n",
    "degraded_fsim = dppp.fsim(image, degraded).numpy()[0]\n",
    "print(f\"Degraded PSNR: {degraded_psnr:0.2f}, FSIM: {degraded_fsim:0.4f}\")"
   ]
  },
  {
   "cell_type": "markdown",
   "metadata": {},
   "source": [
    "# Run different Methods and Models"
   ]
  },
  {
   "cell_type": "code",
   "execution_count": null,
   "metadata": {},
   "outputs": [],
   "source": [
    "models = [\n",
    "#     'dae_0.04314',\n",
    "#     'drcnn_0.05',\n",
    "    'drunet+_0.0-0.2',\n",
    "    'drugan+_0.0-0.2',\n",
    "]"
   ]
  },
  {
   "cell_type": "code",
   "execution_count": null,
   "metadata": {},
   "outputs": [],
   "source": [
    "all_reconstructed = []\n",
    "all_psnr = []\n",
    "all_fsim = []\n",
    "\n",
    "for model_name in models:\n",
    "    model_path = os.path.join('models', f'{model_name}.h5')\n",
    "    denoiser, _ = dppp.load_denoiser(model_path)\n",
    "        \n",
    "    print(f\"Running {model_name}...\")\n",
    "    rec = denoiser(degraded, noise_stddev)\n",
    "    \n",
    "    psnr = dppp.psnr(image, rec).numpy()[0]\n",
    "    fsim = dppp.fsim(image, rec).numpy()[0]\n",
    "    print(f\"Reconstructed PSNR: {psnr:0.2f}, FSIM: {fsim:0.4f}\")\n",
    "    \n",
    "    all_reconstructed.append(rec)\n",
    "    all_psnr.append(psnr)\n",
    "    all_fsim.append(fsim)"
   ]
  },
  {
   "cell_type": "markdown",
   "metadata": {},
   "source": [
    "# Visualize"
   ]
  },
  {
   "cell_type": "code",
   "execution_count": null,
   "metadata": {},
   "outputs": [],
   "source": [
    "visualize.draw_images([image[0], degraded[0], *[x[0] for x in all_reconstructed]], ncol=4, figsize=(50, 40))"
   ]
  },
  {
   "cell_type": "markdown",
   "metadata": {},
   "source": [
    "# Export"
   ]
  },
  {
   "cell_type": "code",
   "execution_count": null,
   "metadata": {},
   "outputs": [],
   "source": [
    "export_dir = os.path.join('visualize', 'denoise')"
   ]
  },
  {
   "cell_type": "code",
   "execution_count": null,
   "metadata": {},
   "outputs": [],
   "source": [
    "os.makedirs(export_dir)\n",
    "\n",
    "def export_path(x):\n",
    "    return os.path.join(export_dir, x)\n",
    "\n",
    "def to_uint8(x):\n",
    "    return tf.cast(tf.clip_by_value(x, 0, 1) * 255, tf.uint8)\n",
    "\n",
    "def write_to(file_name, img, psnr, fsim):\n",
    "    imageio.imwrite(export_path(f'{file_name}.png'), to_uint8(img[0]))\n",
    "    with open(export_path(f'{file_name}.txt'), 'w') as f:\n",
    "        f.write(f\"PSNR: {psnr}, FSIM: {fsim}\")\n",
    "\n",
    "#### Images\n",
    "\n",
    "# Ground truth\n",
    "imageio.imwrite(export_path('gt.png'), to_uint8(image[0]))\n",
    "\n",
    "# Degraded\n",
    "write_to('degraded', degraded, degraded_psnr, degraded_fsim)\n",
    "\n",
    "# Reconstructed\n",
    "for model_name, rec, psnr, fsim in zip(models, all_reconstructed, all_psnr, all_fsim):\n",
    "    write_to(f'{model_name}', rec, psnr, fsim)"
   ]
  },
  {
   "cell_type": "markdown",
   "metadata": {},
   "source": [
    "# Highlight a Region of Interest\n",
    "\n",
    "Also add results from other methods before running these cells"
   ]
  },
  {
   "cell_type": "code",
   "execution_count": null,
   "metadata": {},
   "outputs": [],
   "source": [
    "import os\n",
    "import imageio\n",
    "from highlight import highlight, highlight_and_save"
   ]
  },
  {
   "cell_type": "markdown",
   "metadata": {},
   "source": [
    "### Preview and Region Selection"
   ]
  },
  {
   "cell_type": "code",
   "execution_count": null,
   "metadata": {},
   "outputs": [],
   "source": [
    "image = imageio.imread(os.path.join(export_dir, 'gt.png'))\n",
    "\n",
    "# Location of the region of interest\n",
    "center = (135,215)\n",
    "extent = 25\n",
    "\n",
    "# Size of the box\n",
    "rel_width = 0.5\n",
    "\n",
    "# Positioning of the box\n",
    "border = 0.01\n",
    "top = False\n",
    "right = False\n",
    "label_border = 0.09\n",
    "fontsize=12\n",
    "\n",
    "fig = highlight(image, center, extent, rel_width, top, right, border, label_border, fontsize)"
   ]
  },
  {
   "cell_type": "markdown",
   "metadata": {},
   "source": [
    "### Highlight"
   ]
  },
  {
   "cell_type": "code",
   "execution_count": null,
   "metadata": {},
   "outputs": [],
   "source": [
    "highlight_and_save(export_dir, center, extent, rel_width, top, right, border, label_border, fontsize)"
   ]
  }
 ],
 "metadata": {
  "kernelspec": {
   "display_name": "Python 3",
   "language": "python",
   "name": "python3"
  },
  "language_info": {
   "codemirror_mode": {
    "name": "ipython",
    "version": 3
   },
   "file_extension": ".py",
   "mimetype": "text/x-python",
   "name": "python",
   "nbconvert_exporter": "python",
   "pygments_lexer": "ipython3",
   "version": "3.8.10"
  }
 },
 "nbformat": 4,
 "nbformat_minor": 2
}
