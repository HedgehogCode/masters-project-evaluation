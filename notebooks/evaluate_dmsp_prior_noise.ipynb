{
 "cells": [
  {
   "cell_type": "code",
   "execution_count": null,
   "id": "54a38f7d",
   "metadata": {},
   "outputs": [],
   "source": [
    "%cd .."
   ]
  },
  {
   "cell_type": "code",
   "execution_count": null,
   "id": "printable-persian",
   "metadata": {},
   "outputs": [],
   "source": [
    "import json\n",
    "import pandas as pd\n",
    "import numpy as np\n",
    "import matplotlib\n",
    "import matplotlib.pyplot as plt\n",
    "import seaborn as sns\n",
    "\n",
    "import plots\n",
    "export = False"
   ]
  },
  {
   "cell_type": "code",
   "execution_count": null,
   "id": "2adfff43",
   "metadata": {},
   "outputs": [],
   "source": [
    "# Execute this cell to run the notebook in export mode\n",
    "export = True\n",
    "plots.setup(font_size=7)"
   ]
  },
  {
   "cell_type": "markdown",
   "id": "153f3233",
   "metadata": {},
   "source": [
    "# Non-Blind Deblurring"
   ]
  },
  {
   "cell_type": "code",
   "execution_count": null,
   "id": "everyday-hygiene",
   "metadata": {},
   "outputs": [],
   "source": [
    "# Read the evaluation\n",
    "df_all = pd.read_csv('results/find-prior-noise-dmsp/deblur_nb.csv')"
   ]
  },
  {
   "cell_type": "code",
   "execution_count": null,
   "id": "economic-amateur",
   "metadata": {
    "scrolled": false
   },
   "outputs": [],
   "source": [
    "df = df_all.copy()\n",
    "\n",
    "# Only the final result\n",
    "df = df[df['Step'] == df['num_steps'] - 1].copy()\n",
    "\n",
    "# Combine dataset and kernels name\n",
    "df.loc[:, 'dataset'] = df['dataset'] + '-' + df['split']\n",
    "# df.loc[:, 'kernels'] = df['kernels'] + '-' + df['kernel_split']\n",
    "df = df.drop(columns=['model', 'split', 'Step', 'Unnamed: 0', 'num_steps'])\n",
    "\n",
    "# Mean over the images\n",
    "df = df.groupby(['dataset', 'noise_stddev', 'prior_noise_stddev']).mean()\n",
    "df = df.reset_index()\n",
    "df = df.drop(columns=['Image_Id'])\n",
    "\n",
    "# Convert noise_stddev to str\n",
    "df['noise_stddev'] = df['noise_stddev'].astype(str)\n"
   ]
  },
  {
   "cell_type": "code",
   "execution_count": null,
   "id": "4fd92468",
   "metadata": {},
   "outputs": [],
   "source": [
    "# Plot PSNR\n",
    "fig, (ax1, ax2) = plt.subplots(1, 2, figsize=(5.6, 2))\n",
    "sns.lineplot(x='prior_noise_stddev', y='psnr', hue='noise_stddev', data=df, ax=ax1, legend=False)\n",
    "ax1.set_xlabel('Denoiser $\\sigma $')\n",
    "ax1.set_ylabel('PSNR')\n",
    "\n",
    "sns.lineplot(x='prior_noise_stddev', y='fsim', hue='noise_stddev', data=df, ax=ax2)\n",
    "ax2.set_xlabel('Denoiser $\\sigma $')\n",
    "ax2.set_ylabel('FSIM')\n",
    "ax2.legend(title='Noise $\\sigma_n $')\n",
    "\n",
    "if export:\n",
    "    plots.save_figure(fig, 'dmsp_prior_noise_deblur')"
   ]
  },
  {
   "cell_type": "markdown",
   "id": "10d6cb08",
   "metadata": {},
   "source": [
    "# Super Resolution"
   ]
  },
  {
   "cell_type": "code",
   "execution_count": null,
   "id": "03b4c95f",
   "metadata": {},
   "outputs": [],
   "source": [
    "# Read the evaluation\n",
    "df_all = pd.read_csv('results/find-prior-noise-dmsp/super_res.csv')"
   ]
  },
  {
   "cell_type": "code",
   "execution_count": null,
   "id": "bf4529d7",
   "metadata": {},
   "outputs": [],
   "source": [
    "df = df_all.copy()\n",
    "\n",
    "# Only the final result\n",
    "df = df[df['Step'] == df['num_steps'] - 1].copy()\n",
    "\n",
    "# Combine dataset and kernels name\n",
    "df.loc[:, 'dataset'] = df['dataset'] + '-' + df['split']\n",
    "# df.loc[:, 'kernels'] = df['kernels'] + '-' + df['kernel_split']\n",
    "df = df.drop(columns=['model', 'split', 'Step', 'Unnamed: 0', 'num_steps'])\n",
    "\n",
    "# Mean over the images\n",
    "df = df.groupby(['dataset', 'sr_scale', 'prior_noise_stddev']).mean()\n",
    "df = df.reset_index()\n",
    "df = df.drop(columns=['Image_Id'])\n",
    "\n",
    "# Convert noise_stddev to str\n",
    "df['sr_scale'] = df['sr_scale'].astype(str)\n",
    "\n",
    "# Filter very low values\n",
    "df = df[df['prior_noise_stddev'] >= 0.05]\n"
   ]
  },
  {
   "cell_type": "code",
   "execution_count": null,
   "id": "9b2fb6c3",
   "metadata": {},
   "outputs": [],
   "source": [
    "# Plot PSNR\n",
    "fig, (ax1, ax2) = plt.subplots(1, 2, figsize=(5.6, 2))\n",
    "sns.lineplot(x='prior_noise_stddev', y='psnr', hue='sr_scale', data=df, ax=ax1, legend=False)\n",
    "ax1.set_xlabel('Denoiser $\\sigma $')\n",
    "ax1.set_ylabel('PSNR')\n",
    "\n",
    "sns.lineplot(x='prior_noise_stddev', y='fsim', hue='sr_scale', data=df, ax=ax2)\n",
    "ax2.set_xlabel('Denoiser $\\sigma $')\n",
    "ax2.set_ylabel('FSIM')\n",
    "ax2.legend(title='Scale $s$')\n",
    "\n",
    "if export:\n",
    "    plots.save_figure(fig, 'dmsp_prior_noise_sr')"
   ]
  }
 ],
 "metadata": {
  "kernelspec": {
   "display_name": "Python 3",
   "language": "python",
   "name": "python3"
  },
  "language_info": {
   "codemirror_mode": {
    "name": "ipython",
    "version": 3
   },
   "file_extension": ".py",
   "mimetype": "text/x-python",
   "name": "python",
   "nbconvert_exporter": "python",
   "pygments_lexer": "ipython3",
   "version": "3.8.10"
  }
 },
 "nbformat": 4,
 "nbformat_minor": 5
}
