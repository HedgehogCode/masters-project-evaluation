{
 "cells": [
  {
   "cell_type": "code",
   "execution_count": null,
   "id": "4ca9fd9a",
   "metadata": {},
   "outputs": [],
   "source": [
    "%cd .."
   ]
  },
  {
   "cell_type": "code",
   "execution_count": null,
   "id": "printable-persian",
   "metadata": {},
   "outputs": [],
   "source": [
    "import json\n",
    "import pandas as pd\n",
    "import numpy as np\n",
    "import matplotlib.pyplot as plt\n",
    "import seaborn as sns"
   ]
  },
  {
   "cell_type": "code",
   "execution_count": null,
   "id": "5bfbfc6d",
   "metadata": {},
   "outputs": [],
   "source": [
    "algo_models = [\n",
    "    #(\"dmsp\", \"dae_0.04314\"),\n",
    "    (\"dmsp\", \"dcnn_0.05\"),\n",
    "    (\"dmsp\", \"drcnn_0.05\"),\n",
    "    # (\"dmsp\", \"dunet_0.05\"),\n",
    "    (\"dmsp\", \"dunet+_0.05\"),\n",
    "    # (\"dmsp\", \"drunet+_0.05\"),\n",
    "    (\"dmsp\", \"drunet+_0.0-0.2\"),\n",
    "    (\"dmsp\", \"drugan+_0.0-0.2\"),\n",
    "    #(\"hqs\", \"drunet_0.0-0.2\"),\n",
    "    (\"hqs\", \"drunet+_0.0-0.2\"),\n",
    "    (\"hqs\", \"drugan+_0.0-0.2\"),\n",
    "]\n",
    "models = list(list(zip(*algo_models))[1])\n",
    "metrics = [\"psnr\", \"fsim\"]\n",
    "noise_levels = [0.01, 0.02, 0.03, 0.04]\n",
    "datasets = [\"bsds500/dmsp-validation\"]"
   ]
  },
  {
   "cell_type": "code",
   "execution_count": null,
   "id": "everyday-hygiene",
   "metadata": {},
   "outputs": [],
   "source": [
    "# Read the evaluation\n",
    "df_all = pd.read_csv('results/eval_image_reconstruction/deblur_nb.csv')\n",
    "\n",
    "# Read the model name mapping\n",
    "with open('models/model_name_mapping.json') as f:\n",
    "    model_mapping = json.load(f)"
   ]
  },
  {
   "cell_type": "code",
   "execution_count": null,
   "id": "grave-reference",
   "metadata": {},
   "outputs": [],
   "source": [
    "df = df_all.copy()\n",
    "\n",
    "# Only the final result\n",
    "df = df[df['Step'] == df['num_steps'] - 1].copy()\n",
    "\n",
    "# Only take rows where the model+algorithm combination is correct\n",
    "df = df[[(a in algo_models) for a in zip(df['algorithm'], df['model'])]]\n",
    "# df = df[df['model'].map(models_algorithm_dict) == df['algorithm']]\n",
    "\n",
    "# Combine dataset and kernels name\n",
    "df.loc[:, 'dataset'] = df['dataset'] + '-' + df['split']\n",
    "df.loc[:, 'kernels'] = df['kernels'] + '-' + df['kernel_split']\n",
    "df = df.drop(columns=['split', 'kernel_split', 'Step', 'Unnamed: 0', 'num_steps'])\n",
    "\n",
    "# Filter datasets\n",
    "df = df[df['dataset'].isin(datasets)]\n",
    "\n",
    "# Mean over the images\n",
    "df = df.groupby(['model', 'noise_stddev', 'algorithm']).mean()\n",
    "df = df.reset_index()\n",
    "df = df.drop(columns=['Image_Id'])\n",
    "\n",
    "# Combine all metrics in one column\n",
    "df = df.melt(id_vars=['model', 'noise_stddev', 'algorithm'], var_name='metric', value_name='value')\n",
    "\n",
    "# Filter: Only configured metrics, only configured noise levels\n",
    "df = df[df['metric'].isin(metrics)]\n",
    "df = df[df['noise_stddev'].isin(noise_levels)]\n",
    "\n",
    "# Sort\n",
    "df = df.sort_values('metric', kind='mergesort', key=lambda x: [0 if v == \"PSNR\" else 1 for v in x])\n",
    "df = df.sort_values('noise_stddev', kind='mergesort')\n",
    "\n",
    "# # Rename metrics\n",
    "df['metric'] = df['metric'].map(lambda x: x.upper())\n",
    "df['algorithm'] = df['algorithm'].map(lambda x: x.upper())\n",
    "\n",
    "# Set the index\n",
    "df = df.set_index(['model', 'algorithm', 'noise_stddev', 'metric'])\n",
    "\n",
    "# Unstack noise_stddev\n",
    "df = df.unstack(['noise_stddev', 'metric'])\n",
    "\n",
    "# Organize the column naming\n",
    "df.columns = df.columns.droplevel(0)\n",
    "df.columns = df.columns.rename(['Additive noise \\( \\sigma_n \\)', ''])\n",
    "\n",
    "# Sort the models+algos\n",
    "def index_level(n):\n",
    "    return df.index.get_level_values(n)\n",
    "\n",
    "df = df.sort_index(key=lambda x: [\n",
    "    algo_models.index(x) for x in zip(index_level('algorithm').str.lower(),\n",
    "                                      index_level('model'))\n",
    "])\n",
    "\n",
    "# Organize the index naming\n",
    "df.index = df.index.map(lambda x: f\"{x[1]}-{model_mapping[x[0]]}\")\n",
    "df.index = df.index.rename('Method')\n",
    "\n",
    "df"
   ]
  },
  {
   "cell_type": "code",
   "execution_count": null,
   "id": "asian-understanding",
   "metadata": {},
   "outputs": [],
   "source": [
    "def float_format(v):\n",
    "    if v < 1.0:\n",
    "        return f\"{v:.4f}\" #[1:] <-- Do not show leading 0\n",
    "    else:\n",
    "        return f\"{v:.2f}\"\n",
    "\n",
    "column_format = 'l' + 'c' * len(df.columns)\n",
    "\n",
    "latex = df.to_latex(float_format=float_format,\n",
    "                    escape=False,\n",
    "                    na_rep='---',\n",
    "                    column_format=column_format,\n",
    "                    multicolumn_format='c')\n",
    "print(latex)"
   ]
  }
 ],
 "metadata": {
  "kernelspec": {
   "display_name": "Python 3",
   "language": "python",
   "name": "python3"
  },
  "language_info": {
   "codemirror_mode": {
    "name": "ipython",
    "version": 3
   },
   "file_extension": ".py",
   "mimetype": "text/x-python",
   "name": "python",
   "nbconvert_exporter": "python",
   "pygments_lexer": "ipython3",
   "version": "3.8.10"
  }
 },
 "nbformat": 4,
 "nbformat_minor": 5
}
