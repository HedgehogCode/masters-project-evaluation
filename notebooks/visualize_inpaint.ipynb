{
 "cells": [
  {
   "cell_type": "code",
   "execution_count": null,
   "metadata": {},
   "outputs": [],
   "source": [
    "%cd ..\n",
    "%config Completer.use_jedi = False\n",
    "%load_ext autoreload\n",
    "%autoreload 2"
   ]
  },
  {
   "cell_type": "code",
   "execution_count": null,
   "metadata": {},
   "outputs": [],
   "source": [
    "import os\n",
    "import imageio\n",
    "import tensorflow as tf\n",
    "import tensorflow_datasets as tfds\n",
    "\n",
    "import tensorflow_datasets_bw as datasets\n",
    "from tensorflow_datasets_bw import visualize\n",
    "import dppp"
   ]
  },
  {
   "cell_type": "markdown",
   "metadata": {},
   "source": [
    "# Load an example dataset and example kernels"
   ]
  },
  {
   "cell_type": "code",
   "execution_count": null,
   "metadata": {},
   "outputs": [],
   "source": [
    "examples = ['kate', 'library', 'vase', 'vase2']\n",
    "example_id = 2\n",
    "data_path = os.path.join('notebooks', 'data', 'inpainting')\n",
    "image = imageio.imread(os.path.join(data_path, f'{examples[example_id]}.png'))\n",
    "mask = imageio.imread(os.path.join(data_path, f'{examples[example_id]}_mask.png'))\n",
    "\n",
    "image = datasets.from_255_to_1_range(\n",
    "            datasets.to_float32(\n",
    "                tf.constant(image)))[None,...]\n",
    "mask = tf.broadcast_to(\n",
    "            datasets.from_255_to_1_range(\n",
    "                datasets.to_float32(\n",
    "                    tf.constant(mask)))[None,...,None],\n",
    "               shape=tf.shape(image))\n",
    "\n",
    "degraded = mask * image"
   ]
  },
  {
   "cell_type": "code",
   "execution_count": null,
   "metadata": {},
   "outputs": [],
   "source": [
    "import skimage.restoration\n",
    "\n",
    "inpainted_skimage = skimage.restoration.inpaint_biharmonic(degraded[0].numpy(), tf.cast(mask[0] == False, tf.uint8).numpy())[None,...]\n",
    "inpainted_border = dppp.inpaint_border(degraded, mask)"
   ]
  },
  {
   "cell_type": "markdown",
   "metadata": {},
   "source": [
    "# Run different Methods and Models"
   ]
  },
  {
   "cell_type": "code",
   "execution_count": null,
   "metadata": {},
   "outputs": [],
   "source": [
    "model_methods = [\n",
    "    ('drunet+_0.0-0.2', 'dmsp', 0.1),\n",
    "    ('drugan+_0.0-0.2', 'dmsp', 0.1),\n",
    "    ('drunet+_0.0-0.2', 'hqs', None),\n",
    "    ('drugan+_0.0-0.2', 'hqs', None),\n",
    "]"
   ]
  },
  {
   "cell_type": "code",
   "execution_count": null,
   "metadata": {},
   "outputs": [],
   "source": [
    "all_reconstructed = []\n",
    "\n",
    "for model_name, method, denoiser_stddev in model_methods:\n",
    "    model_path = os.path.join('models', f'{model_name}.h5')\n",
    "    denoiser, (_, max_denoiser_stddev) = dppp.load_denoiser(model_path)\n",
    "    if denoiser_stddev is None:\n",
    "        denoiser_stddev = max_denoiser_stddev\n",
    "        \n",
    "    print(f\"Running {method} for {model_name}...\")\n",
    "    if method == 'dmsp':\n",
    "        rec = dppp.dmsp_inpaint(degraded, mask, denoiser, denoiser_stddev)\n",
    "        \n",
    "    if method == 'hqs':\n",
    "        rec = dppp.hqs_inpaint(degraded, mask, denoiser, max_denoiser_stddev)\n",
    "    \n",
    "    all_reconstructed.append(rec)"
   ]
  },
  {
   "cell_type": "markdown",
   "metadata": {},
   "source": [
    "# Visualize"
   ]
  },
  {
   "cell_type": "code",
   "execution_count": null,
   "metadata": {
    "scrolled": true
   },
   "outputs": [],
   "source": [
    "visualize.draw_images([image[0], degraded[0], inpainted_border[0], inpainted_skimage[0],\n",
    "                       *[x[0] for x in all_reconstructed]], ncol=4, figsize=(50, 40))"
   ]
  },
  {
   "cell_type": "markdown",
   "metadata": {},
   "source": [
    "# Export"
   ]
  },
  {
   "cell_type": "code",
   "execution_count": null,
   "metadata": {},
   "outputs": [],
   "source": [
    "export_dir = os.path.join('visualize', 'inpaint_vase')\n",
    "os.makedirs(export_dir)\n",
    "\n",
    "def export_path(x):\n",
    "    return os.path.join(export_dir, x)\n",
    "\n",
    "def to_uint8(x):\n",
    "    return tf.cast(tf.clip_by_value(x, 0, 1) * 255, tf.uint8)\n",
    "\n",
    "def write_to(file_name, img):\n",
    "    imageio.imwrite(export_path(f'{file_name}.png'), to_uint8(img[0]))\n",
    "\n",
    "#### Images\n",
    "\n",
    "# Original\n",
    "write_to('original', image)\n",
    "\n",
    "# Degraded\n",
    "write_to('degraded', degraded)\n",
    "\n",
    "# Border\n",
    "write_to('border', inpainted_border)\n",
    "\n",
    "# Skimage\n",
    "write_to('skimage', inpainted_skimage)\n",
    "\n",
    "# Reconstructed\n",
    "for mm, rec in zip(model_methods, all_reconstructed):\n",
    "    model_name, method, denoiser_stddev = mm\n",
    "    write_to(f'{method}-{model_name}', rec)"
   ]
  }
 ],
 "metadata": {
  "kernelspec": {
   "display_name": "Python 3",
   "language": "python",
   "name": "python3"
  },
  "language_info": {
   "codemirror_mode": {
    "name": "ipython",
    "version": 3
   },
   "file_extension": ".py",
   "mimetype": "text/x-python",
   "name": "python",
   "nbconvert_exporter": "python",
   "pygments_lexer": "ipython3",
   "version": "3.8.10"
  }
 },
 "nbformat": 4,
 "nbformat_minor": 2
}
